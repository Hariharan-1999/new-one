{
 "cells": [
  {
   "cell_type": "code",
   "execution_count": 2,
   "id": "f9e2a0c2",
   "metadata": {},
   "outputs": [
    {
     "name": "stdout",
     "output_type": "stream",
     "text": [
      "Collecting pandas\n",
      "  Downloading pandas-2.2.0-cp39-cp39-win_amd64.whl (11.6 MB)\n",
      "Requirement already satisfied: python-dateutil>=2.8.2 in c:\\users\\admin\\appdata\\roaming\\python\\python39\\site-packages (from pandas) (2.8.2)\n",
      "Collecting tzdata>=2022.7\n",
      "  Using cached tzdata-2024.1-py2.py3-none-any.whl (345 kB)\n",
      "Collecting numpy<2,>=1.22.4; python_version < \"3.11\"\n",
      "  Downloading numpy-1.26.4-cp39-cp39-win_amd64.whl (15.8 MB)\n",
      "Collecting pytz>=2020.1\n",
      "  Using cached pytz-2024.1-py2.py3-none-any.whl (505 kB)\n",
      "Requirement already satisfied: six>=1.5 in c:\\users\\admin\\appdata\\roaming\\python\\python39\\site-packages (from python-dateutil>=2.8.2->pandas) (1.16.0)\n",
      "Installing collected packages: tzdata, numpy, pytz, pandas\n",
      "Successfully installed numpy-1.26.4 pandas-2.2.0 pytz-2024.1 tzdata-2024.1\n"
     ]
    },
    {
     "name": "stderr",
     "output_type": "stream",
     "text": [
      "WARNING: You are using pip version 20.2.3; however, version 24.0 is available.\n",
      "You should consider upgrading via the 'c:\\users\\admin\\appdata\\local\\programs\\python\\python39\\python.exe -m pip install --upgrade pip' command.\n"
     ]
    },
    {
     "name": "stdout",
     "output_type": "stream",
     "text": [
      "Collecting tqdm\n",
      "  Using cached tqdm-4.66.2-py3-none-any.whl (78 kB)\n",
      "Requirement already satisfied: colorama; platform_system == \"Windows\" in c:\\users\\admin\\appdata\\roaming\\python\\python39\\site-packages (from tqdm) (0.4.6)\n",
      "Installing collected packages: tqdm\n",
      "Successfully installed tqdm-4.66.2\n"
     ]
    },
    {
     "name": "stderr",
     "output_type": "stream",
     "text": [
      "WARNING: You are using pip version 20.2.3; however, version 24.0 is available.\n",
      "You should consider upgrading via the 'c:\\users\\admin\\appdata\\local\\programs\\python\\python39\\python.exe -m pip install --upgrade pip' command.\n"
     ]
    }
   ],
   "source": [
    "!pip install pandas\n",
    "!pip install tqdm"
   ]
  },
  {
   "cell_type": "code",
   "execution_count": 66,
   "id": "5d6a3132-e5a9-44d3-b301-a94066223cca",
   "metadata": {},
   "outputs": [],
   "source": [
    "import pandas as pd\n",
    "import ast\n",
    "from tqdm import tqdm"
   ]
  },
  {
   "cell_type": "code",
   "execution_count": 67,
   "id": "44efcb25-3ad6-4464-b013-30a3697994c9",
   "metadata": {},
   "outputs": [
    {
     "data": {
      "text/plain": [
       "((4803, 20), (4803, 4))"
      ]
     },
     "execution_count": 67,
     "metadata": {},
     "output_type": "execute_result"
    }
   ],
   "source": [
    "# Load the datasets\n",
    "movies_df = pd.read_csv('tmdb_5000_movies.csv')\n",
    "credits_df = pd.read_csv('tmdb_5000_credits.csv')\n",
    "\n",
    "# Display the first few rows of each dataframe to understand their structure\n",
    "movies_df.shape, credits_df.shape"
   ]
  },
  {
   "cell_type": "code",
   "execution_count": 68,
   "id": "6ee2692e-bf89-43cd-90bd-29e565497b26",
   "metadata": {},
   "outputs": [],
   "source": [
    "merged_df = pd.merge(movies_df, credits_df, left_on='id', right_on='movie_id')"
   ]
  },
  {
   "cell_type": "code",
   "execution_count": 69,
   "id": "b8cf109f-a8c0-4912-b3e6-0cd51addc4cd",
   "metadata": {},
   "outputs": [
    {
     "data": {
      "text/plain": [
       "((46419, 2), (45843, 3), (45466, 24))"
      ]
     },
     "execution_count": 69,
     "metadata": {},
     "output_type": "execute_result"
    }
   ],
   "source": [
    "# Load the newly uploaded datasets\n",
    "keywords_df = pd.read_csv('keywords.csv')\n",
    "links_df = pd.read_csv('links.csv')\n",
    "movies_metadata_df = pd.read_csv('movies_metadata.csv', low_memory=False) # low_memory to avoid dtypes warning\n",
    "\n",
    "# Display the first few rows of each new dataframe to understand their structure\n",
    "keywords_df.shape, links_df.shape, movies_metadata_df.shape\n"
   ]
  },
  {
   "cell_type": "code",
   "execution_count": 70,
   "id": "4b5a6898-f09c-45b7-af7c-cf1c2cca2bd7",
   "metadata": {},
   "outputs": [
    {
     "data": {
      "text/plain": [
       "((4852, 48),\n",
       " Index(['budget_left', 'genres_left', 'homepage_left', 'id', 'keywords_x',\n",
       "        'original_language_left', 'original_title_left', 'overview_left',\n",
       "        'popularity_left', 'production_companies_left',\n",
       "        'production_countries_left', 'release_date_left', 'revenue_left',\n",
       "        'runtime_left', 'spoken_languages_left', 'status_left', 'tagline_left',\n",
       "        'title_x', 'vote_average_left', 'vote_count_left', 'movie_id',\n",
       "        'title_y', 'cast', 'crew', 'keywords_y', 'adult',\n",
       "        'belongs_to_collection', 'budget_right', 'genres_right',\n",
       "        'homepage_right', 'imdb_id', 'original_language_right',\n",
       "        'original_title_right', 'overview_right', 'popularity_right',\n",
       "        'poster_path', 'production_companies_right',\n",
       "        'production_countries_right', 'release_date_right', 'revenue_right',\n",
       "        'runtime_right', 'spoken_languages_right', 'status_right',\n",
       "        'tagline_right', 'title', 'video', 'vote_average_right',\n",
       "        'vote_count_right'],\n",
       "       dtype='object'))"
      ]
     },
     "execution_count": 70,
     "metadata": {},
     "output_type": "execute_result"
    }
   ],
   "source": [
    "# Merge the keywords_df with the previously merged dataset\n",
    "merged_with_keywords_df = pd.merge(merged_df, keywords_df, on='id', how='left')\n",
    "\n",
    "# Now merge the movies_metadata_df with the result, aligning on 'id'\n",
    "# We need to ensure the 'id' columns are of the same type\n",
    "merged_with_keywords_df['id'] = merged_with_keywords_df['id'].astype(str)\n",
    "movies_metadata_df['id'] = movies_metadata_df['id'].astype(str)\n",
    "\n",
    "final_merged_df = pd.merge(merged_with_keywords_df, movies_metadata_df, on='id', how='left', suffixes=('_left', '_right'))\n",
    "\n",
    "# Display the shape of the final merged dataframe to understand the extent of merging\n",
    "final_merged_df.shape, final_merged_df.columns"
   ]
  },
  {
   "cell_type": "code",
   "execution_count": 6,
   "id": "64710537-7ebe-45a7-b04d-95dc89e5e4c1",
   "metadata": {},
   "outputs": [],
   "source": [
    "# final_merged_df.to_csv('merged_movies.csv',index=False)"
   ]
  },
  {
   "cell_type": "code",
   "execution_count": 71,
   "id": "d273472c-8fa5-4239-b110-b672e6ffd6be",
   "metadata": {},
   "outputs": [],
   "source": [
    "# Identify columns with '_left' and '_right' suffixes and prepare for comparison and potential consolidation\n",
    "duplicate_columns = [col for col in final_merged_df.columns if '_left' in col or '_right' in col]\n",
    "unique_columns = [col.replace('_left', '').replace('_right', '') for col in duplicate_columns]\n",
    "\n",
    "# Create a dictionary to map unique column names to their '_left' and '_right' counterparts\n",
    "column_mapping = {}\n",
    "for unique_col in set(unique_columns):\n",
    "    left_version = f\"{unique_col}_left\"\n",
    "    right_version = f\"{unique_col}_right\"\n",
    "    column_mapping[unique_col] = [left_version, right_version]\n",
    "\n",
    "# Determine strategy for each pair: either keep one (if identical or one is preferable) or merge (if complementary)\n",
    "# This will be a manual process based on column content. For simplicity, we'll initially assume to keep '_left' versions\n",
    "# and drop '_right', unless inspection reveals a need for a different approach.\n",
    "\n",
    "# Columns to keep without change (initially all '_left' versions and unique ones without such suffixes)\n",
    "columns_to_keep = [col for col in final_merged_df.columns if '_right' not in col]\n",
    "\n",
    "# Drop '_right' columns from the dataframe\n",
    "cleaned_df = final_merged_df[columns_to_keep].copy()\n",
    "\n",
    "# For demonstration, let's rename '_left' suffixes to remove them and clean up column names\n",
    "cleaned_df.columns = [col.replace('_left', '') if '_left' in col else col for col in cleaned_df.columns]\n",
    "\n",
    "# Display the cleaned dataframe structure\n",
    "# cleaned_df.head(), cleaned_df.columns.tolist()\n"
   ]
  },
  {
   "cell_type": "code",
   "execution_count": 72,
   "id": "65253446-6ad0-4762-a9a3-684f79533251",
   "metadata": {},
   "outputs": [
    {
     "data": {
      "text/plain": [
       "(Index(['budget', 'genres', 'homepage', 'id', 'keywords_x', 'original_language',\n",
       "        'original_title', 'overview', 'popularity', 'production_companies',\n",
       "        'production_countries', 'release_date', 'revenue', 'runtime',\n",
       "        'spoken_languages', 'status', 'tagline', 'title_x', 'vote_average',\n",
       "        'vote_count', 'movie_id', 'title_y', 'cast', 'crew', 'keywords_y',\n",
       "        'adult', 'belongs_to_collection', 'imdb_id', 'poster_path', 'title',\n",
       "        'video'],\n",
       "       dtype='object'),\n",
       " (4852, 31))"
      ]
     },
     "execution_count": 72,
     "metadata": {},
     "output_type": "execute_result"
    }
   ],
   "source": [
    "cleaned_df.columns,cleaned_df.shape"
   ]
  },
  {
   "cell_type": "code",
   "execution_count": 73,
   "id": "d3907ccb-cd69-47fc-93d0-2e828246eac0",
   "metadata": {},
   "outputs": [
    {
     "data": {
      "text/plain": [
       "(4852, 29)"
      ]
     },
     "execution_count": 73,
     "metadata": {},
     "output_type": "execute_result"
    }
   ],
   "source": [
    "remove_columns = ['keywords_y','title_y']\n",
    "cleaned_df = cleaned_df.drop(remove_columns,axis=1)\n",
    "cleaned_df.shape"
   ]
  },
  {
   "cell_type": "code",
   "execution_count": 50,
   "id": "8721d132-fea3-44fe-ab3a-ca74dbdea09d",
   "metadata": {},
   "outputs": [],
   "source": [
    "# list(cleaned_df.columns)"
   ]
  },
  {
   "cell_type": "code",
   "execution_count": 74,
   "id": "e8c4c702-9d7a-4bcc-97ec-799c44529cf5",
   "metadata": {},
   "outputs": [],
   "source": [
    "def extract_data(col, df):\n",
    "    genres_list = []\n",
    "    for index,row in tqdm(df.iterrows()):\n",
    "        genres_info = row[col]\n",
    "        genres_list_row = ast.literal_eval(genres_info)\n",
    "        all_genres_types = [i.get('name') for i in genres_list_row]\n",
    "        genres_str = ','.join([str(elem) for elem in all_genres_types])\n",
    "        genres_list.append(genres_str)\n",
    "    return genres_list"
   ]
  },
  {
   "cell_type": "code",
   "execution_count": 75,
   "id": "0e222b00-155f-460e-aeb8-5b7cad1f0c55",
   "metadata": {},
   "outputs": [
    {
     "name": "stderr",
     "output_type": "stream",
     "text": [
      "4852it [00:00, 10371.08it/s]\n"
     ]
    }
   ],
   "source": [
    "cleaned_genres = extract_data('genres', cleaned_df)\n",
    "cleaned_df['cleaned_genres'] = cleaned_genres"
   ]
  },
  {
   "cell_type": "code",
   "execution_count": 76,
   "id": "8306d9f7-249d-4eb1-9216-f0c6814dfc14",
   "metadata": {},
   "outputs": [
    {
     "name": "stderr",
     "output_type": "stream",
     "text": [
      "4852it [00:00, 6450.09it/s]\n"
     ]
    }
   ],
   "source": [
    "cleaned_keywords = extract_data('keywords_x', cleaned_df)\n",
    "cleaned_df['cleaned_keywords'] = cleaned_keywords"
   ]
  },
  {
   "cell_type": "code",
   "execution_count": 77,
   "id": "07cb880f-38a7-45dd-9289-f9c0ffac3ec9",
   "metadata": {},
   "outputs": [
    {
     "name": "stderr",
     "output_type": "stream",
     "text": [
      "4852it [00:00, 9444.07it/s] \n"
     ]
    }
   ],
   "source": [
    "cleaned_prod_comp = extract_data('production_companies', cleaned_df)\n",
    "cleaned_df['cleaned_production_companies'] = cleaned_prod_comp"
   ]
  },
  {
   "cell_type": "code",
   "execution_count": 78,
   "id": "4831c6e3-aa5e-4ddd-b3f5-2be67ba3c1bf",
   "metadata": {},
   "outputs": [
    {
     "name": "stderr",
     "output_type": "stream",
     "text": [
      "4852it [00:00, 11389.01it/s]\n"
     ]
    }
   ],
   "source": [
    "cleaned_prod_countries = extract_data('production_countries', cleaned_df)\n",
    "cleaned_df['cleaned_production_countries'] = cleaned_prod_countries"
   ]
  },
  {
   "cell_type": "code",
   "execution_count": 79,
   "id": "01f65e8b-15c2-4a3c-9701-3cbaa3c1cd6e",
   "metadata": {},
   "outputs": [
    {
     "name": "stderr",
     "output_type": "stream",
     "text": [
      "4852it [00:00, 10711.02it/s]\n"
     ]
    }
   ],
   "source": [
    "cleaned_spoken_languages = extract_data('spoken_languages', cleaned_df)\n",
    "cleaned_df['cleaned_spoken_languages'] = cleaned_spoken_languages"
   ]
  },
  {
   "cell_type": "code",
   "execution_count": 80,
   "id": "eca929b9-d0d0-4f5a-9fc9-00fea68f0f3d",
   "metadata": {},
   "outputs": [
    {
     "name": "stderr",
     "output_type": "stream",
     "text": [
      "4852it [00:03, 1297.34it/s]\n"
     ]
    }
   ],
   "source": [
    "get_character_name = extract_data('cast', cleaned_df)\n",
    "cleaned_df['cleaned_cast'] = get_character_name"
   ]
  },
  {
   "cell_type": "code",
   "execution_count": 81,
   "id": "ef000a21-c625-4306-8f24-e08f9b336d70",
   "metadata": {},
   "outputs": [
    {
     "name": "stderr",
     "output_type": "stream",
     "text": [
      "4852it [00:04, 1172.53it/s]\n"
     ]
    }
   ],
   "source": [
    "get_crew_name = extract_data('crew', cleaned_df)\n",
    "cleaned_df['cleaned_crew'] = get_crew_name"
   ]
  },
  {
   "cell_type": "code",
   "execution_count": 21,
   "id": "8be3a6ca-925f-4a4b-b974-01f4b26d2aa5",
   "metadata": {},
   "outputs": [],
   "source": [
    "# cleaned_df['cleaned_genres'] + ' ' + cleaned_df['cleaned_keywords'] + ' ' + cleaned_df['original_language']+ ' ' + cleaned_df['overview'] + ' ' + cleaned_df['cleaned_production_companies']"
   ]
  },
  {
   "cell_type": "code",
   "execution_count": 82,
   "id": "bee4fcaa-4dbc-49a1-aa53-2e91eed2b860",
   "metadata": {},
   "outputs": [],
   "source": [
    "cleaned_df['combined_text'] = cleaned_df['cleaned_genres'] + ' ' + cleaned_df['cleaned_keywords'] + ' ' + cleaned_df['original_language']+ ' ' + cleaned_df['overview'] + ' ' + cleaned_df['cleaned_production_companies'] + ' ' +  cleaned_df['cleaned_production_countries'] + ' ' + cleaned_df['cleaned_spoken_languages'] + ' ' + cleaned_df['tagline'] + ' ' + cleaned_df['cleaned_cast'] + ' ' + cleaned_df['cleaned_crew']"
   ]
  },
  {
   "cell_type": "code",
   "execution_count": 21,
   "id": "23c4cc47-4dda-4cf2-ae48-50c3f9c82126",
   "metadata": {},
   "outputs": [],
   "source": [
    "# cleaned_df['cleaned_production_countries'].iloc[11]"
   ]
  },
  {
   "cell_type": "code",
   "execution_count": 22,
   "id": "48454eb0-9d3f-4300-b06b-bdedc73b13ec",
   "metadata": {},
   "outputs": [],
   "source": [
    "# cleaned_df['combined_text'].iloc[11]"
   ]
  },
  {
   "cell_type": "code",
   "execution_count": 60,
   "id": "cb24e2b7-7c9e-4c87-b3e6-cc913467db4a",
   "metadata": {
    "scrolled": true
   },
   "outputs": [],
   "source": [
    "# from sentence_transformers import SentenceTransformer\n",
    "# # model = SentenceTransformer('bert-base-nli-mean-tokens')\n",
    "# multi_qa_model = SentenceTransformer('multi-qa-MiniLM-L6-cos-v1')"
   ]
  },
  {
   "cell_type": "code",
   "execution_count": 22,
   "id": "5669d18a-f71f-42cf-a6d9-a49e7b7d60ef",
   "metadata": {},
   "outputs": [],
   "source": [
    "# # from sentence_transformers import SentenceTransformer\n",
    "# model = SentenceTransformer('bert-base-nli-mean-tokens')"
   ]
  },
  {
   "cell_type": "code",
   "execution_count": 33,
   "id": "d50b8384-efff-45b0-9a0a-b0f700ddcf36",
   "metadata": {},
   "outputs": [],
   "source": [
    "# cleaned_df['combined_text_str'] = cleaned_df['combined_text'].apply(lambda x: str(x))"
   ]
  },
  {
   "cell_type": "code",
   "execution_count": 35,
   "id": "47416f6c-616f-41ee-837f-6b57ecb517be",
   "metadata": {},
   "outputs": [],
   "source": [
    "# cleaned_df['combined_embeddings'] = cleaned_df['combined_text_str'].apply(lambda x: model.encode(x))"
   ]
  },
  {
   "cell_type": "code",
   "execution_count": null,
   "id": "55e37ab2-d1b5-4490-9238-065772f04960",
   "metadata": {},
   "outputs": [],
   "source": [
    "# embeddings_df = pd.DataFrame()\n",
    "# embeddings_df = cleaned_df[['combined_embeddings','title']]"
   ]
  },
  {
   "cell_type": "code",
   "execution_count": 27,
   "id": "afaba9f5-052b-4a09-b4e4-9f5c3fcad0ec",
   "metadata": {},
   "outputs": [],
   "source": [
    "# embeddings_df.to_pickle(\"embeddings_df_bert.pkl\")"
   ]
  },
  {
   "cell_type": "code",
   "execution_count": 83,
   "id": "097c94da-ee67-42bc-a449-1b01dbad81ad",
   "metadata": {},
   "outputs": [
    {
     "data": {
      "text/plain": [
       "(4852, 2)"
      ]
     },
     "execution_count": 83,
     "metadata": {},
     "output_type": "execute_result"
    }
   ],
   "source": [
    "unpickled_df = pd.read_pickle(\"embeddings_df_bert.pkl\")\n",
    "unpickled_df.shape"
   ]
  },
  {
   "cell_type": "code",
   "execution_count": 84,
   "id": "3953de27-6031-40f1-8d39-d326710f5a99",
   "metadata": {},
   "outputs": [
    {
     "data": {
      "text/html": [
       "<div>\n",
       "<style scoped>\n",
       "    .dataframe tbody tr th:only-of-type {\n",
       "        vertical-align: middle;\n",
       "    }\n",
       "\n",
       "    .dataframe tbody tr th {\n",
       "        vertical-align: top;\n",
       "    }\n",
       "\n",
       "    .dataframe thead th {\n",
       "        text-align: right;\n",
       "    }\n",
       "</style>\n",
       "<table border=\"1\" class=\"dataframe\">\n",
       "  <thead>\n",
       "    <tr style=\"text-align: right;\">\n",
       "      <th></th>\n",
       "      <th>combined_embeddings</th>\n",
       "      <th>title</th>\n",
       "    </tr>\n",
       "  </thead>\n",
       "  <tbody>\n",
       "    <tr>\n",
       "      <th>0</th>\n",
       "      <td>[-0.5951478, 0.97025007, 0.03234572, 0.0785742...</td>\n",
       "      <td>Avatar</td>\n",
       "    </tr>\n",
       "    <tr>\n",
       "      <th>1</th>\n",
       "      <td>[-0.3901741, 0.7123572, 0.723126, 0.5925892, 0...</td>\n",
       "      <td>Pirates of the Caribbean: At World's End</td>\n",
       "    </tr>\n",
       "    <tr>\n",
       "      <th>2</th>\n",
       "      <td>[-0.08191218, 0.6235143, 0.40724906, -0.005524...</td>\n",
       "      <td>Spectre</td>\n",
       "    </tr>\n",
       "    <tr>\n",
       "      <th>3</th>\n",
       "      <td>[-0.39101967, 0.26441473, 0.37008652, 0.158049...</td>\n",
       "      <td>The Dark Knight Rises</td>\n",
       "    </tr>\n",
       "    <tr>\n",
       "      <th>4</th>\n",
       "      <td>[-0.69936043, 0.8608328, 0.40289634, 0.3395809...</td>\n",
       "      <td>John Carter</td>\n",
       "    </tr>\n",
       "    <tr>\n",
       "      <th>...</th>\n",
       "      <td>...</td>\n",
       "      <td>...</td>\n",
       "    </tr>\n",
       "    <tr>\n",
       "      <th>4847</th>\n",
       "      <td>[-0.03972727, -0.07696694, 0.54768676, 0.19541...</td>\n",
       "      <td>El Mariachi</td>\n",
       "    </tr>\n",
       "    <tr>\n",
       "      <th>4848</th>\n",
       "      <td>[-0.51017284, 0.97050416, 1.3249298, 0.3194456...</td>\n",
       "      <td>Newlyweds</td>\n",
       "    </tr>\n",
       "    <tr>\n",
       "      <th>4849</th>\n",
       "      <td>[0.029933913, -0.15620214, 1.2514101, -0.29579...</td>\n",
       "      <td>Signed, Sealed, Delivered</td>\n",
       "    </tr>\n",
       "    <tr>\n",
       "      <th>4850</th>\n",
       "      <td>[-1.0525036, 0.90318936, 0.08746941, 0.2358224...</td>\n",
       "      <td>Shanghai Calling</td>\n",
       "    </tr>\n",
       "    <tr>\n",
       "      <th>4851</th>\n",
       "      <td>[0.029933913, -0.15620214, 1.2514101, -0.29579...</td>\n",
       "      <td>My Date with Drew</td>\n",
       "    </tr>\n",
       "  </tbody>\n",
       "</table>\n",
       "<p>4852 rows × 2 columns</p>\n",
       "</div>"
      ],
      "text/plain": [
       "                                    combined_embeddings  \\\n",
       "0     [-0.5951478, 0.97025007, 0.03234572, 0.0785742...   \n",
       "1     [-0.3901741, 0.7123572, 0.723126, 0.5925892, 0...   \n",
       "2     [-0.08191218, 0.6235143, 0.40724906, -0.005524...   \n",
       "3     [-0.39101967, 0.26441473, 0.37008652, 0.158049...   \n",
       "4     [-0.69936043, 0.8608328, 0.40289634, 0.3395809...   \n",
       "...                                                 ...   \n",
       "4847  [-0.03972727, -0.07696694, 0.54768676, 0.19541...   \n",
       "4848  [-0.51017284, 0.97050416, 1.3249298, 0.3194456...   \n",
       "4849  [0.029933913, -0.15620214, 1.2514101, -0.29579...   \n",
       "4850  [-1.0525036, 0.90318936, 0.08746941, 0.2358224...   \n",
       "4851  [0.029933913, -0.15620214, 1.2514101, -0.29579...   \n",
       "\n",
       "                                         title  \n",
       "0                                       Avatar  \n",
       "1     Pirates of the Caribbean: At World's End  \n",
       "2                                      Spectre  \n",
       "3                        The Dark Knight Rises  \n",
       "4                                  John Carter  \n",
       "...                                        ...  \n",
       "4847                               El Mariachi  \n",
       "4848                                 Newlyweds  \n",
       "4849                 Signed, Sealed, Delivered  \n",
       "4850                          Shanghai Calling  \n",
       "4851                         My Date with Drew  \n",
       "\n",
       "[4852 rows x 2 columns]"
      ]
     },
     "execution_count": 84,
     "metadata": {},
     "output_type": "execute_result"
    }
   ],
   "source": [
    "unpickled_df"
   ]
  },
  {
   "cell_type": "code",
   "execution_count": 85,
   "id": "c17f7874-9ac7-4f43-81d8-c3210491ca81",
   "metadata": {},
   "outputs": [],
   "source": [
    "# Function to get similar items based on combined name and category\n",
    "def get_similar_items(combined_input, df, model, top_n=6 ):\n",
    "    \n",
    "    combined_embedding = model.encode(combined_input)\n",
    "    \n",
    "    # Calculate cosine similarity between the combined input and all other combined texts\n",
    "    similarities = util.pytorch_cos_sim(combined_embedding, df['combined_embeddings'])\n",
    "    \n",
    "    #print(similarities)\n",
    "    # Get the indices of top N similar items\n",
    "    similar_indices = similarities.argsort(descending=True, axis=1)[0][:top_n]\n",
    "    #print(similar_indices)\n",
    "    # Retrieve the similar items from the DataFrame\n",
    "    similar_items_df = df.iloc[similar_indices][['title']]\n",
    "    #print(similar_items)\n",
    "    return similar_items_df"
   ]
  },
  {
   "cell_type": "code",
   "execution_count": 86,
   "id": "b764495b-d15f-40bc-8d14-dba6670d7545",
   "metadata": {},
   "outputs": [
    {
     "data": {
      "text/html": [
       "<div>\n",
       "<style scoped>\n",
       "    .dataframe tbody tr th:only-of-type {\n",
       "        vertical-align: middle;\n",
       "    }\n",
       "\n",
       "    .dataframe tbody tr th {\n",
       "        vertical-align: top;\n",
       "    }\n",
       "\n",
       "    .dataframe thead th {\n",
       "        text-align: right;\n",
       "    }\n",
       "</style>\n",
       "<table border=\"1\" class=\"dataframe\">\n",
       "  <thead>\n",
       "    <tr style=\"text-align: right;\">\n",
       "      <th></th>\n",
       "      <th>budget</th>\n",
       "      <th>genres</th>\n",
       "      <th>homepage</th>\n",
       "      <th>id</th>\n",
       "      <th>keywords_x</th>\n",
       "      <th>original_language</th>\n",
       "      <th>original_title</th>\n",
       "      <th>overview</th>\n",
       "      <th>popularity</th>\n",
       "      <th>production_companies</th>\n",
       "      <th>...</th>\n",
       "      <th>title</th>\n",
       "      <th>video</th>\n",
       "      <th>cleaned_genres</th>\n",
       "      <th>cleaned_keywords</th>\n",
       "      <th>cleaned_production_companies</th>\n",
       "      <th>cleaned_production_countries</th>\n",
       "      <th>cleaned_spoken_languages</th>\n",
       "      <th>cleaned_cast</th>\n",
       "      <th>cleaned_crew</th>\n",
       "      <th>combined_text</th>\n",
       "    </tr>\n",
       "  </thead>\n",
       "  <tbody>\n",
       "    <tr>\n",
       "      <th>0</th>\n",
       "      <td>237000000</td>\n",
       "      <td>[{\"id\": 28, \"name\": \"Action\"}, {\"id\": 12, \"nam...</td>\n",
       "      <td>http://www.avatarmovie.com/</td>\n",
       "      <td>19995</td>\n",
       "      <td>[{\"id\": 1463, \"name\": \"culture clash\"}, {\"id\":...</td>\n",
       "      <td>en</td>\n",
       "      <td>Avatar</td>\n",
       "      <td>In the 22nd century, a paraplegic Marine is di...</td>\n",
       "      <td>150.437577</td>\n",
       "      <td>[{\"name\": \"Ingenious Film Partners\", \"id\": 289...</td>\n",
       "      <td>...</td>\n",
       "      <td>Avatar</td>\n",
       "      <td>False</td>\n",
       "      <td>Action,Adventure,Fantasy,Science Fiction</td>\n",
       "      <td>culture clash,future,space war,space colony,so...</td>\n",
       "      <td>Ingenious Film Partners,Twentieth Century Fox ...</td>\n",
       "      <td>United States of America,United Kingdom</td>\n",
       "      <td>English,Español</td>\n",
       "      <td>Sam Worthington,Zoe Saldana,Sigourney Weaver,S...</td>\n",
       "      <td>Stephen E. Rivkin,Rick Carter,Christopher Boye...</td>\n",
       "      <td>Action,Adventure,Fantasy,Science Fiction cultu...</td>\n",
       "    </tr>\n",
       "    <tr>\n",
       "      <th>1</th>\n",
       "      <td>300000000</td>\n",
       "      <td>[{\"id\": 12, \"name\": \"Adventure\"}, {\"id\": 14, \"...</td>\n",
       "      <td>http://disney.go.com/disneypictures/pirates/</td>\n",
       "      <td>285</td>\n",
       "      <td>[{\"id\": 270, \"name\": \"ocean\"}, {\"id\": 726, \"na...</td>\n",
       "      <td>en</td>\n",
       "      <td>Pirates of the Caribbean: At World's End</td>\n",
       "      <td>Captain Barbossa, long believed to be dead, ha...</td>\n",
       "      <td>139.082615</td>\n",
       "      <td>[{\"name\": \"Walt Disney Pictures\", \"id\": 2}, {\"...</td>\n",
       "      <td>...</td>\n",
       "      <td>Pirates of the Caribbean: At World's End</td>\n",
       "      <td>False</td>\n",
       "      <td>Adventure,Fantasy,Action</td>\n",
       "      <td>ocean,drug abuse,exotic island,east india trad...</td>\n",
       "      <td>Walt Disney Pictures,Jerry Bruckheimer Films,S...</td>\n",
       "      <td>United States of America</td>\n",
       "      <td>English</td>\n",
       "      <td>Johnny Depp,Orlando Bloom,Keira Knightley,Stel...</td>\n",
       "      <td>Dariusz Wolski,Gore Verbinski,Jerry Bruckheime...</td>\n",
       "      <td>Adventure,Fantasy,Action ocean,drug abuse,exot...</td>\n",
       "    </tr>\n",
       "    <tr>\n",
       "      <th>2</th>\n",
       "      <td>245000000</td>\n",
       "      <td>[{\"id\": 28, \"name\": \"Action\"}, {\"id\": 12, \"nam...</td>\n",
       "      <td>http://www.sonypictures.com/movies/spectre/</td>\n",
       "      <td>206647</td>\n",
       "      <td>[{\"id\": 470, \"name\": \"spy\"}, {\"id\": 818, \"name...</td>\n",
       "      <td>en</td>\n",
       "      <td>Spectre</td>\n",
       "      <td>A cryptic message from Bond’s past sends him o...</td>\n",
       "      <td>107.376788</td>\n",
       "      <td>[{\"name\": \"Columbia Pictures\", \"id\": 5}, {\"nam...</td>\n",
       "      <td>...</td>\n",
       "      <td>Spectre</td>\n",
       "      <td>False</td>\n",
       "      <td>Action,Adventure,Crime</td>\n",
       "      <td>spy,based on novel,secret agent,sequel,mi6,bri...</td>\n",
       "      <td>Columbia Pictures,Danjaq,B24</td>\n",
       "      <td>United Kingdom,United States of America</td>\n",
       "      <td>Français,English,Español,Italiano,Deutsch</td>\n",
       "      <td>Daniel Craig,Christoph Waltz,Léa Seydoux,Ralph...</td>\n",
       "      <td>Thomas Newman,Sam Mendes,Anna Pinnock,John Log...</td>\n",
       "      <td>Action,Adventure,Crime spy,based on novel,secr...</td>\n",
       "    </tr>\n",
       "    <tr>\n",
       "      <th>3</th>\n",
       "      <td>250000000</td>\n",
       "      <td>[{\"id\": 28, \"name\": \"Action\"}, {\"id\": 80, \"nam...</td>\n",
       "      <td>http://www.thedarkknightrises.com/</td>\n",
       "      <td>49026</td>\n",
       "      <td>[{\"id\": 849, \"name\": \"dc comics\"}, {\"id\": 853,...</td>\n",
       "      <td>en</td>\n",
       "      <td>The Dark Knight Rises</td>\n",
       "      <td>Following the death of District Attorney Harve...</td>\n",
       "      <td>112.312950</td>\n",
       "      <td>[{\"name\": \"Legendary Pictures\", \"id\": 923}, {\"...</td>\n",
       "      <td>...</td>\n",
       "      <td>The Dark Knight Rises</td>\n",
       "      <td>False</td>\n",
       "      <td>Action,Crime,Drama,Thriller</td>\n",
       "      <td>dc comics,crime fighter,terrorist,secret ident...</td>\n",
       "      <td>Legendary Pictures,Warner Bros.,DC Entertainme...</td>\n",
       "      <td>United States of America</td>\n",
       "      <td>English</td>\n",
       "      <td>Christian Bale,Michael Caine,Gary Oldman,Anne ...</td>\n",
       "      <td>Hans Zimmer,Charles Roven,Christopher Nolan,Ch...</td>\n",
       "      <td>Action,Crime,Drama,Thriller dc comics,crime fi...</td>\n",
       "    </tr>\n",
       "    <tr>\n",
       "      <th>4</th>\n",
       "      <td>260000000</td>\n",
       "      <td>[{\"id\": 28, \"name\": \"Action\"}, {\"id\": 12, \"nam...</td>\n",
       "      <td>http://movies.disney.com/john-carter</td>\n",
       "      <td>49529</td>\n",
       "      <td>[{\"id\": 818, \"name\": \"based on novel\"}, {\"id\":...</td>\n",
       "      <td>en</td>\n",
       "      <td>John Carter</td>\n",
       "      <td>John Carter is a war-weary, former military ca...</td>\n",
       "      <td>43.926995</td>\n",
       "      <td>[{\"name\": \"Walt Disney Pictures\", \"id\": 2}]</td>\n",
       "      <td>...</td>\n",
       "      <td>John Carter</td>\n",
       "      <td>False</td>\n",
       "      <td>Action,Adventure,Science Fiction</td>\n",
       "      <td>based on novel,mars,medallion,space travel,pri...</td>\n",
       "      <td>Walt Disney Pictures</td>\n",
       "      <td>United States of America</td>\n",
       "      <td>English</td>\n",
       "      <td>Taylor Kitsch,Lynn Collins,Samantha Morton,Wil...</td>\n",
       "      <td>Andrew Stanton,Andrew Stanton,John Lasseter,Co...</td>\n",
       "      <td>Action,Adventure,Science Fiction based on nove...</td>\n",
       "    </tr>\n",
       "    <tr>\n",
       "      <th>...</th>\n",
       "      <td>...</td>\n",
       "      <td>...</td>\n",
       "      <td>...</td>\n",
       "      <td>...</td>\n",
       "      <td>...</td>\n",
       "      <td>...</td>\n",
       "      <td>...</td>\n",
       "      <td>...</td>\n",
       "      <td>...</td>\n",
       "      <td>...</td>\n",
       "      <td>...</td>\n",
       "      <td>...</td>\n",
       "      <td>...</td>\n",
       "      <td>...</td>\n",
       "      <td>...</td>\n",
       "      <td>...</td>\n",
       "      <td>...</td>\n",
       "      <td>...</td>\n",
       "      <td>...</td>\n",
       "      <td>...</td>\n",
       "      <td>...</td>\n",
       "    </tr>\n",
       "    <tr>\n",
       "      <th>4847</th>\n",
       "      <td>220000</td>\n",
       "      <td>[{\"id\": 28, \"name\": \"Action\"}, {\"id\": 80, \"nam...</td>\n",
       "      <td>NaN</td>\n",
       "      <td>9367</td>\n",
       "      <td>[{\"id\": 5616, \"name\": \"united states\\u2013mexi...</td>\n",
       "      <td>es</td>\n",
       "      <td>El Mariachi</td>\n",
       "      <td>El Mariachi just wants to play his guitar and ...</td>\n",
       "      <td>14.269792</td>\n",
       "      <td>[{\"name\": \"Columbia Pictures\", \"id\": 5}]</td>\n",
       "      <td>...</td>\n",
       "      <td>El Mariachi</td>\n",
       "      <td>False</td>\n",
       "      <td>Action,Crime,Thriller</td>\n",
       "      <td>united states–mexico barrier,legs,arms,paper k...</td>\n",
       "      <td>Columbia Pictures</td>\n",
       "      <td>Mexico,United States of America</td>\n",
       "      <td>Español</td>\n",
       "      <td>Carlos Gallardo,Jaime de Hoyos,Peter Marquardt...</td>\n",
       "      <td>Robert Rodriguez,Robert Rodriguez,Robert Rodri...</td>\n",
       "      <td>Action,Crime,Thriller united states–mexico bar...</td>\n",
       "    </tr>\n",
       "    <tr>\n",
       "      <th>4848</th>\n",
       "      <td>9000</td>\n",
       "      <td>[{\"id\": 35, \"name\": \"Comedy\"}, {\"id\": 10749, \"...</td>\n",
       "      <td>NaN</td>\n",
       "      <td>72766</td>\n",
       "      <td>[]</td>\n",
       "      <td>en</td>\n",
       "      <td>Newlyweds</td>\n",
       "      <td>A newlywed couple's honeymoon is upended by th...</td>\n",
       "      <td>0.642552</td>\n",
       "      <td>[]</td>\n",
       "      <td>...</td>\n",
       "      <td>Newlyweds</td>\n",
       "      <td>False</td>\n",
       "      <td>Comedy,Romance</td>\n",
       "      <td></td>\n",
       "      <td></td>\n",
       "      <td></td>\n",
       "      <td></td>\n",
       "      <td>Edward Burns,Kerry Bishé,Marsha Dietlein,Caitl...</td>\n",
       "      <td>Edward Burns,Edward Burns,Edward Burns,William...</td>\n",
       "      <td>Comedy,Romance  en A newlywed couple's honeymo...</td>\n",
       "    </tr>\n",
       "    <tr>\n",
       "      <th>4849</th>\n",
       "      <td>0</td>\n",
       "      <td>[{\"id\": 35, \"name\": \"Comedy\"}, {\"id\": 18, \"nam...</td>\n",
       "      <td>http://www.hallmarkchannel.com/signedsealeddel...</td>\n",
       "      <td>231617</td>\n",
       "      <td>[{\"id\": 248, \"name\": \"date\"}, {\"id\": 699, \"nam...</td>\n",
       "      <td>en</td>\n",
       "      <td>Signed, Sealed, Delivered</td>\n",
       "      <td>\"Signed, Sealed, Delivered\" introduces a dedic...</td>\n",
       "      <td>1.444476</td>\n",
       "      <td>[{\"name\": \"Front Street Pictures\", \"id\": 3958}...</td>\n",
       "      <td>...</td>\n",
       "      <td>Signed, Sealed, Delivered</td>\n",
       "      <td>False</td>\n",
       "      <td>Comedy,Drama,Romance,TV Movie</td>\n",
       "      <td>date,love at first sight,narration,investigati...</td>\n",
       "      <td>Front Street Pictures,Muse Entertainment Enter...</td>\n",
       "      <td>United States of America</td>\n",
       "      <td>English</td>\n",
       "      <td>Eric Mabius,Kristin Booth,Crystal Lowe,Geoff G...</td>\n",
       "      <td>Carla Hetland,Harvey Kahn,Adam Sliwinski,Marth...</td>\n",
       "      <td>NaN</td>\n",
       "    </tr>\n",
       "    <tr>\n",
       "      <th>4850</th>\n",
       "      <td>0</td>\n",
       "      <td>[]</td>\n",
       "      <td>http://shanghaicalling.com/</td>\n",
       "      <td>126186</td>\n",
       "      <td>[]</td>\n",
       "      <td>en</td>\n",
       "      <td>Shanghai Calling</td>\n",
       "      <td>When ambitious New York attorney Sam is sent t...</td>\n",
       "      <td>0.857008</td>\n",
       "      <td>[]</td>\n",
       "      <td>...</td>\n",
       "      <td>Shanghai Calling</td>\n",
       "      <td>False</td>\n",
       "      <td></td>\n",
       "      <td></td>\n",
       "      <td></td>\n",
       "      <td>United States of America,China</td>\n",
       "      <td>English</td>\n",
       "      <td>Daniel Henney,Eliza Coupe,Bill Paxton,Alan Ruc...</td>\n",
       "      <td>Daniel Hsia,Daniel Hsia</td>\n",
       "      <td>en When ambitious New York attorney Sam is s...</td>\n",
       "    </tr>\n",
       "    <tr>\n",
       "      <th>4851</th>\n",
       "      <td>0</td>\n",
       "      <td>[{\"id\": 99, \"name\": \"Documentary\"}]</td>\n",
       "      <td>NaN</td>\n",
       "      <td>25975</td>\n",
       "      <td>[{\"id\": 1523, \"name\": \"obsession\"}, {\"id\": 224...</td>\n",
       "      <td>en</td>\n",
       "      <td>My Date with Drew</td>\n",
       "      <td>Ever since the second grade when he first saw ...</td>\n",
       "      <td>1.929883</td>\n",
       "      <td>[{\"name\": \"rusty bear entertainment\", \"id\": 87...</td>\n",
       "      <td>...</td>\n",
       "      <td>My Date with Drew</td>\n",
       "      <td>False</td>\n",
       "      <td>Documentary</td>\n",
       "      <td>obsession,camcorder,crush,dream girl</td>\n",
       "      <td>rusty bear entertainment,lucky crow films</td>\n",
       "      <td>United States of America</td>\n",
       "      <td>English</td>\n",
       "      <td>Drew Barrymore,Brian Herzlinger,Corey Feldman,...</td>\n",
       "      <td>Clark Peterson,Andrew Reimer,Brian Herzlinger,...</td>\n",
       "      <td>NaN</td>\n",
       "    </tr>\n",
       "  </tbody>\n",
       "</table>\n",
       "<p>4852 rows × 37 columns</p>\n",
       "</div>"
      ],
      "text/plain": [
       "         budget                                             genres  \\\n",
       "0     237000000  [{\"id\": 28, \"name\": \"Action\"}, {\"id\": 12, \"nam...   \n",
       "1     300000000  [{\"id\": 12, \"name\": \"Adventure\"}, {\"id\": 14, \"...   \n",
       "2     245000000  [{\"id\": 28, \"name\": \"Action\"}, {\"id\": 12, \"nam...   \n",
       "3     250000000  [{\"id\": 28, \"name\": \"Action\"}, {\"id\": 80, \"nam...   \n",
       "4     260000000  [{\"id\": 28, \"name\": \"Action\"}, {\"id\": 12, \"nam...   \n",
       "...         ...                                                ...   \n",
       "4847     220000  [{\"id\": 28, \"name\": \"Action\"}, {\"id\": 80, \"nam...   \n",
       "4848       9000  [{\"id\": 35, \"name\": \"Comedy\"}, {\"id\": 10749, \"...   \n",
       "4849          0  [{\"id\": 35, \"name\": \"Comedy\"}, {\"id\": 18, \"nam...   \n",
       "4850          0                                                 []   \n",
       "4851          0                [{\"id\": 99, \"name\": \"Documentary\"}]   \n",
       "\n",
       "                                               homepage      id  \\\n",
       "0                           http://www.avatarmovie.com/   19995   \n",
       "1          http://disney.go.com/disneypictures/pirates/     285   \n",
       "2           http://www.sonypictures.com/movies/spectre/  206647   \n",
       "3                    http://www.thedarkknightrises.com/   49026   \n",
       "4                  http://movies.disney.com/john-carter   49529   \n",
       "...                                                 ...     ...   \n",
       "4847                                                NaN    9367   \n",
       "4848                                                NaN   72766   \n",
       "4849  http://www.hallmarkchannel.com/signedsealeddel...  231617   \n",
       "4850                        http://shanghaicalling.com/  126186   \n",
       "4851                                                NaN   25975   \n",
       "\n",
       "                                             keywords_x original_language  \\\n",
       "0     [{\"id\": 1463, \"name\": \"culture clash\"}, {\"id\":...                en   \n",
       "1     [{\"id\": 270, \"name\": \"ocean\"}, {\"id\": 726, \"na...                en   \n",
       "2     [{\"id\": 470, \"name\": \"spy\"}, {\"id\": 818, \"name...                en   \n",
       "3     [{\"id\": 849, \"name\": \"dc comics\"}, {\"id\": 853,...                en   \n",
       "4     [{\"id\": 818, \"name\": \"based on novel\"}, {\"id\":...                en   \n",
       "...                                                 ...               ...   \n",
       "4847  [{\"id\": 5616, \"name\": \"united states\\u2013mexi...                es   \n",
       "4848                                                 []                en   \n",
       "4849  [{\"id\": 248, \"name\": \"date\"}, {\"id\": 699, \"nam...                en   \n",
       "4850                                                 []                en   \n",
       "4851  [{\"id\": 1523, \"name\": \"obsession\"}, {\"id\": 224...                en   \n",
       "\n",
       "                                original_title  \\\n",
       "0                                       Avatar   \n",
       "1     Pirates of the Caribbean: At World's End   \n",
       "2                                      Spectre   \n",
       "3                        The Dark Knight Rises   \n",
       "4                                  John Carter   \n",
       "...                                        ...   \n",
       "4847                               El Mariachi   \n",
       "4848                                 Newlyweds   \n",
       "4849                 Signed, Sealed, Delivered   \n",
       "4850                          Shanghai Calling   \n",
       "4851                         My Date with Drew   \n",
       "\n",
       "                                               overview  popularity  \\\n",
       "0     In the 22nd century, a paraplegic Marine is di...  150.437577   \n",
       "1     Captain Barbossa, long believed to be dead, ha...  139.082615   \n",
       "2     A cryptic message from Bond’s past sends him o...  107.376788   \n",
       "3     Following the death of District Attorney Harve...  112.312950   \n",
       "4     John Carter is a war-weary, former military ca...   43.926995   \n",
       "...                                                 ...         ...   \n",
       "4847  El Mariachi just wants to play his guitar and ...   14.269792   \n",
       "4848  A newlywed couple's honeymoon is upended by th...    0.642552   \n",
       "4849  \"Signed, Sealed, Delivered\" introduces a dedic...    1.444476   \n",
       "4850  When ambitious New York attorney Sam is sent t...    0.857008   \n",
       "4851  Ever since the second grade when he first saw ...    1.929883   \n",
       "\n",
       "                                   production_companies  ...  \\\n",
       "0     [{\"name\": \"Ingenious Film Partners\", \"id\": 289...  ...   \n",
       "1     [{\"name\": \"Walt Disney Pictures\", \"id\": 2}, {\"...  ...   \n",
       "2     [{\"name\": \"Columbia Pictures\", \"id\": 5}, {\"nam...  ...   \n",
       "3     [{\"name\": \"Legendary Pictures\", \"id\": 923}, {\"...  ...   \n",
       "4           [{\"name\": \"Walt Disney Pictures\", \"id\": 2}]  ...   \n",
       "...                                                 ...  ...   \n",
       "4847           [{\"name\": \"Columbia Pictures\", \"id\": 5}]  ...   \n",
       "4848                                                 []  ...   \n",
       "4849  [{\"name\": \"Front Street Pictures\", \"id\": 3958}...  ...   \n",
       "4850                                                 []  ...   \n",
       "4851  [{\"name\": \"rusty bear entertainment\", \"id\": 87...  ...   \n",
       "\n",
       "                                         title  video  \\\n",
       "0                                       Avatar  False   \n",
       "1     Pirates of the Caribbean: At World's End  False   \n",
       "2                                      Spectre  False   \n",
       "3                        The Dark Knight Rises  False   \n",
       "4                                  John Carter  False   \n",
       "...                                        ...    ...   \n",
       "4847                               El Mariachi  False   \n",
       "4848                                 Newlyweds  False   \n",
       "4849                 Signed, Sealed, Delivered  False   \n",
       "4850                          Shanghai Calling  False   \n",
       "4851                         My Date with Drew  False   \n",
       "\n",
       "                                cleaned_genres  \\\n",
       "0     Action,Adventure,Fantasy,Science Fiction   \n",
       "1                     Adventure,Fantasy,Action   \n",
       "2                       Action,Adventure,Crime   \n",
       "3                  Action,Crime,Drama,Thriller   \n",
       "4             Action,Adventure,Science Fiction   \n",
       "...                                        ...   \n",
       "4847                     Action,Crime,Thriller   \n",
       "4848                            Comedy,Romance   \n",
       "4849             Comedy,Drama,Romance,TV Movie   \n",
       "4850                                             \n",
       "4851                               Documentary   \n",
       "\n",
       "                                       cleaned_keywords  \\\n",
       "0     culture clash,future,space war,space colony,so...   \n",
       "1     ocean,drug abuse,exotic island,east india trad...   \n",
       "2     spy,based on novel,secret agent,sequel,mi6,bri...   \n",
       "3     dc comics,crime fighter,terrorist,secret ident...   \n",
       "4     based on novel,mars,medallion,space travel,pri...   \n",
       "...                                                 ...   \n",
       "4847  united states–mexico barrier,legs,arms,paper k...   \n",
       "4848                                                      \n",
       "4849  date,love at first sight,narration,investigati...   \n",
       "4850                                                      \n",
       "4851               obsession,camcorder,crush,dream girl   \n",
       "\n",
       "                           cleaned_production_companies  \\\n",
       "0     Ingenious Film Partners,Twentieth Century Fox ...   \n",
       "1     Walt Disney Pictures,Jerry Bruckheimer Films,S...   \n",
       "2                          Columbia Pictures,Danjaq,B24   \n",
       "3     Legendary Pictures,Warner Bros.,DC Entertainme...   \n",
       "4                                  Walt Disney Pictures   \n",
       "...                                                 ...   \n",
       "4847                                  Columbia Pictures   \n",
       "4848                                                      \n",
       "4849  Front Street Pictures,Muse Entertainment Enter...   \n",
       "4850                                                      \n",
       "4851          rusty bear entertainment,lucky crow films   \n",
       "\n",
       "                 cleaned_production_countries  \\\n",
       "0     United States of America,United Kingdom   \n",
       "1                    United States of America   \n",
       "2     United Kingdom,United States of America   \n",
       "3                    United States of America   \n",
       "4                    United States of America   \n",
       "...                                       ...   \n",
       "4847          Mexico,United States of America   \n",
       "4848                                            \n",
       "4849                 United States of America   \n",
       "4850           United States of America,China   \n",
       "4851                 United States of America   \n",
       "\n",
       "                       cleaned_spoken_languages  \\\n",
       "0                               English,Español   \n",
       "1                                       English   \n",
       "2     Français,English,Español,Italiano,Deutsch   \n",
       "3                                       English   \n",
       "4                                       English   \n",
       "...                                         ...   \n",
       "4847                                    Español   \n",
       "4848                                              \n",
       "4849                                    English   \n",
       "4850                                    English   \n",
       "4851                                    English   \n",
       "\n",
       "                                           cleaned_cast  \\\n",
       "0     Sam Worthington,Zoe Saldana,Sigourney Weaver,S...   \n",
       "1     Johnny Depp,Orlando Bloom,Keira Knightley,Stel...   \n",
       "2     Daniel Craig,Christoph Waltz,Léa Seydoux,Ralph...   \n",
       "3     Christian Bale,Michael Caine,Gary Oldman,Anne ...   \n",
       "4     Taylor Kitsch,Lynn Collins,Samantha Morton,Wil...   \n",
       "...                                                 ...   \n",
       "4847  Carlos Gallardo,Jaime de Hoyos,Peter Marquardt...   \n",
       "4848  Edward Burns,Kerry Bishé,Marsha Dietlein,Caitl...   \n",
       "4849  Eric Mabius,Kristin Booth,Crystal Lowe,Geoff G...   \n",
       "4850  Daniel Henney,Eliza Coupe,Bill Paxton,Alan Ruc...   \n",
       "4851  Drew Barrymore,Brian Herzlinger,Corey Feldman,...   \n",
       "\n",
       "                                           cleaned_crew  \\\n",
       "0     Stephen E. Rivkin,Rick Carter,Christopher Boye...   \n",
       "1     Dariusz Wolski,Gore Verbinski,Jerry Bruckheime...   \n",
       "2     Thomas Newman,Sam Mendes,Anna Pinnock,John Log...   \n",
       "3     Hans Zimmer,Charles Roven,Christopher Nolan,Ch...   \n",
       "4     Andrew Stanton,Andrew Stanton,John Lasseter,Co...   \n",
       "...                                                 ...   \n",
       "4847  Robert Rodriguez,Robert Rodriguez,Robert Rodri...   \n",
       "4848  Edward Burns,Edward Burns,Edward Burns,William...   \n",
       "4849  Carla Hetland,Harvey Kahn,Adam Sliwinski,Marth...   \n",
       "4850                            Daniel Hsia,Daniel Hsia   \n",
       "4851  Clark Peterson,Andrew Reimer,Brian Herzlinger,...   \n",
       "\n",
       "                                          combined_text  \n",
       "0     Action,Adventure,Fantasy,Science Fiction cultu...  \n",
       "1     Adventure,Fantasy,Action ocean,drug abuse,exot...  \n",
       "2     Action,Adventure,Crime spy,based on novel,secr...  \n",
       "3     Action,Crime,Drama,Thriller dc comics,crime fi...  \n",
       "4     Action,Adventure,Science Fiction based on nove...  \n",
       "...                                                 ...  \n",
       "4847  Action,Crime,Thriller united states–mexico bar...  \n",
       "4848  Comedy,Romance  en A newlywed couple's honeymo...  \n",
       "4849                                                NaN  \n",
       "4850    en When ambitious New York attorney Sam is s...  \n",
       "4851                                                NaN  \n",
       "\n",
       "[4852 rows x 37 columns]"
      ]
     },
     "execution_count": 86,
     "metadata": {},
     "output_type": "execute_result"
    }
   ],
   "source": [
    "cleaned_df"
   ]
  },
  {
   "cell_type": "code",
   "execution_count": 87,
   "id": "2e3e0dcc-b897-4f03-9f00-906319554e1b",
   "metadata": {},
   "outputs": [
    {
     "name": "stderr",
     "output_type": "stream",
     "text": [
      "1it [00:00, ?it/s]\n",
      "1it [00:00, ?it/s]\n",
      "1it [00:00, ?it/s]\n",
      "1it [00:00, 996.04it/s]\n",
      "1it [00:00, ?it/s]\n",
      "1it [00:00, 196.05it/s]\n",
      "1it [00:00, 199.87it/s]\n"
     ]
    }
   ],
   "source": [
    "# Inference is done\n",
    "\n",
    "import warnings\n",
    "warnings.filterwarnings('ignore')\n",
    "infer_df = cleaned_df.head(1)\n",
    "\n",
    "infer_cleaned_genres = extract_data('genres', infer_df)\n",
    "infer_df['cleaned_genres'] = infer_cleaned_genres\n",
    "\n",
    "infer_cleaned_keywords = extract_data('keywords_x', infer_df)\n",
    "infer_df['cleaned_keywords'] = infer_cleaned_keywords\n",
    "\n",
    "infer_cleaned_prod_comp = extract_data('production_companies', infer_df)\n",
    "infer_df['cleaned_production_companies'] = infer_cleaned_prod_comp\n",
    "\n",
    "infer_prod_countries = extract_data('production_countries', infer_df)\n",
    "infer_df['cleaned_production_countries'] = infer_prod_countries\n",
    "\n",
    "infer_spoken_languages = extract_data('spoken_languages', infer_df)\n",
    "infer_df['cleaned_spoken_languages'] = infer_spoken_languages\n",
    "\n",
    "infer_get_character_name = extract_data('cast', infer_df)\n",
    "infer_df['cleaned_cast'] = infer_get_character_name\n",
    "\n",
    "infer_get_crew_name = extract_data('crew', infer_df)\n",
    "infer_df['cleaned_crew'] = infer_get_crew_name\n",
    "\n",
    "infer_df['combined_text'] = infer_df['cleaned_genres'] + ' ' + infer_df['cleaned_keywords'] + ' ' + infer_df['original_language']+ ' ' + infer_df['overview'] + ' ' + infer_df['cleaned_production_companies'] + ' ' +  infer_df['cleaned_production_countries'] + ' ' + infer_df['cleaned_spoken_languages'] + ' ' + infer_df['tagline'] + ' ' + infer_df['cleaned_cast'] + ' ' + infer_df['cleaned_crew']\n",
    "\n",
    "infer_df['combined_text_str'] = infer_df['combined_text'].apply(lambda x: str(x))"
   ]
  },
  {
   "cell_type": "code",
   "execution_count": 36,
   "id": "8828f1c7-c59a-4e8a-990b-4c07324b1254",
   "metadata": {},
   "outputs": [
    {
     "data": {
      "text/plain": [
       "\"Action,Adventure,Fantasy,Science Fiction culture clash,future,space war,space colony,society,space travel,futuristic,romance,space,alien,tribe,alien planet,cgi,marine,soldier,battle,love affair,anti war,power relations,mind and soul,3d en In the 22nd century, a paraplegic Marine is dispatched to the moon Pandora on a unique mission, but becomes torn between following orders and protecting an alien civilization. Ingenious Film Partners,Twentieth Century Fox Film Corporation,Dune Entertainment,Lightstorm Entertainment United States of America,United Kingdom English,Español Enter the World of Pandora. Sam Worthington,Zoe Saldana,Sigourney Weaver,Stephen Lang,Michelle Rodriguez,Giovanni Ribisi,Joel David Moore,CCH Pounder,Wes Studi,Laz Alonso,Dileep Rao,Matt Gerald,Sean Anthony Moran,Jason Whyte,Scott Lawrence,Kelly Kilgour,James Patrick Pitt,Sean Patrick Murphy,Peter Dillon,Kevin Dorman,Kelson Henderson,David Van Horn,Jacob Tomuri,Michael Blain-Rozgay,Jon Curry,Luke Hawker,Woody Schultz,Peter Mensah,Sonia Yee,Jahnel Curfman,Ilram Choi,Kyla Warren,Lisa Roumain,Debra Wilson,Chris Mala,Taylor Kibby,Jodie Landau,Julie Lamm,Cullen B. Madden,Joseph Brady Madden,Frankie Torres,Austin Wilson,Sara Wilson,Tamica Washington-Miller,Lucy Briant,Nathan Meister,Gerry Blair,Matthew Chamberlain,Paul Yates,Wray Wilson,James Gaylyn,Melvin Leno Clark III,Carvon Futrell,Brandon Jelkes,Micah Moch,Hanniyah Muhammad,Christopher Nolen,Christa Oliver,April Marie Thomas,Bravita A. Threatt,Colin Bleasdale,Mike Bodnar,Matt Clayton,Nicole Dionne,Jamie Harrison,Allan Henry,Anthony Ingruber,Ashley Jeffery,Dean Knowsley,Joseph Mika-Hunt,Terry Notary,Kai Pantano,Logan Pithyou,Stuart Pollock,Raja,Gareth Ruck,Rhian Sheehan,T. J. Storm,Jodie Taylor,Alicia Vela-Bailey,Richard Whiteside,Nikie Zambo,Julene Renee Stephen E. Rivkin,Rick Carter,Christopher Boyes,Christopher Boyes,Mali Finn,James Horner,James Cameron,James Cameron,James Cameron,James Cameron,James Cameron,Andrew Menzies,Jill Brooks,Margery Simkin,Kevin Ishioka,Dick Bernstein,Shannon Mills,Dennie Thorpe,Jana Vance,Deborah Lynn Scott,Jon Landau,Sean Haworth,Kim Sinclair,Kim Sinclair,Richard F. Mays,Laeta Kalogridis,Mayes C. Rubeo,Mauro Fiore,Scott Herbertson,Woody Schultz,Linda DeVetta,Linda DeVetta,Richard Bluck,Simon Bright,Richard Martin,Steve R. Moore,John Refoua,Karl J. Martin,Chiling Lin,Ilram Choi,Steven Quale,Carla Meyer,Nick Bassett,Jill Cormack,Andy McLaren,Terry Notary,Garrett Warren,Jonathan Rothbart,Stefan Dechant,Todd Cherniawsky,Miranda Rivers,Robert Stromberg,John Harding,Roberto De Angelis,Mike Smithson,Alain Lalanne,Lucas Salton,Janace Tashjian,Stephen Rosenbaum,Frankie Karena,Lisa Lovaas,Jonathan Fawkner,Robert Bavin,Anthony Almaraz,Carolyn M. Fenton,Beth Koenigsberg,Sam Page,Tex Kadonaga,Kim Foscato,Tammy S. Lee,Denny Caira,James Waitkus,Addison Teague,C. Scott Baker,Luke Caska,David Chow,Jonathan Dyer,Joseph Hiura,Rebecca Jellie,Robert Andrew Johnson,Mike Stassi,John Villarino,Jeffrey Wisniewski,Cheryl Nardi,Marshall Winn,Gwendolyn Yates Whittle,William Stein,Lula Washington,Chris Del Conte,R. Christopher White,Dan Lemmon,Tim Nielsen,Michael Mulholland,Thomas Nittmann,Edson Williams,Christine Carr,John Bruno,David Emmerichs,Christopher Scarabosio,Jennifer Teves,Brigitte Yorke,Ken Fischer,Iain Hutton,Steve Ingram,Joyce Cox,Jenny Foster,Christopher Marino,Jim Milton,Cyndi Ochs,Lucas Putnam,Anthony 'Max' Ivins,John Knoll,Eric Saindon,Wayne Stables,David Stinnett,Guy Williams,Stuart Thorp,Giles Coburn,Mark Fellman,Scott Sprague,Jeremy Hollobon,Orlando Meunier,Taisuke Tanimura,Lilia Mishel Acevedo,Alejandro M. Hernandez,Marvin Hall,Judy Alley,Mike Perry,Andrew Morley,Seth Engstrom,Eric Oliver,Matsune Suzuki,Paul Tobin,Roxane Griffin,Arun Ram-Mohan,Georgia Lockhart-Adams,Thrain Shadbolt,Brad Alexander,Shadi Almassizadeh,Simon Clutterbuck,Graeme Demmocks,Adrian Fernandes,Mitch Gates,Jerry Kung,Andy Lomas,Sebastian Marino,Matthias Menz,Sergei Nevshupov,Philippe Rebours,Michael Takarangi,David Weitzberg,Ben White,Min Windle\""
      ]
     },
     "execution_count": 36,
     "metadata": {},
     "output_type": "execute_result"
    }
   ],
   "source": [
    "# infer_df['combined_text_str'].values[0]"
   ]
  },
  {
   "cell_type": "code",
   "execution_count": 50,
   "id": "d067f0df",
   "metadata": {},
   "outputs": [
    {
     "name": "stdout",
     "output_type": "stream",
     "text": [
      "Requirement already satisfied: sentence_transformers in c:\\users\\admin\\appdata\\local\\programs\\python\\python39\\lib\\site-packages (2.3.1)\n",
      "Requirement already satisfied: Pillow in c:\\users\\admin\\appdata\\local\\programs\\python\\python39\\lib\\site-packages (from sentence_transformers) (10.2.0)\n",
      "Requirement already satisfied: tqdm in c:\\users\\admin\\appdata\\local\\programs\\python\\python39\\lib\\site-packages (from sentence_transformers) (4.66.2)\n",
      "Requirement already satisfied: scipy in c:\\users\\admin\\appdata\\local\\programs\\python\\python39\\lib\\site-packages (from sentence_transformers) (1.12.0)\n",
      "Requirement already satisfied: torch>=1.11.0 in c:\\users\\admin\\appdata\\local\\programs\\python\\python39\\lib\\site-packages (from sentence_transformers) (2.2.1)\n",
      "Requirement already satisfied: transformers<5.0.0,>=4.32.0 in c:\\users\\admin\\appdata\\local\\programs\\python\\python39\\lib\\site-packages (from sentence_transformers) (4.38.1)\n",
      "Requirement already satisfied: numpy in c:\\users\\admin\\appdata\\local\\programs\\python\\python39\\lib\\site-packages (from sentence_transformers) (1.26.4)\n",
      "Requirement already satisfied: sentencepiece in c:\\users\\admin\\appdata\\local\\programs\\python\\python39\\lib\\site-packages (from sentence_transformers) (0.2.0)\n",
      "Requirement already satisfied: huggingface-hub>=0.15.1 in c:\\users\\admin\\appdata\\local\\programs\\python\\python39\\lib\\site-packages (from sentence_transformers) (0.20.3)\n",
      "Requirement already satisfied: nltk in c:\\users\\admin\\appdata\\local\\programs\\python\\python39\\lib\\site-packages (from sentence_transformers) (3.8.1)\n",
      "Requirement already satisfied: scikit-learn in c:\\users\\admin\\appdata\\local\\programs\\python\\python39\\lib\\site-packages (from sentence_transformers) (1.4.1.post1)\n",
      "Requirement already satisfied: colorama; platform_system == \"Windows\" in c:\\users\\admin\\appdata\\roaming\\python\\python39\\site-packages (from tqdm->sentence_transformers) (0.4.6)\n",
      "Requirement already satisfied: networkx in c:\\users\\admin\\appdata\\local\\programs\\python\\python39\\lib\\site-packages (from torch>=1.11.0->sentence_transformers) (3.2.1)\n",
      "Requirement already satisfied: jinja2 in c:\\users\\admin\\appdata\\local\\programs\\python\\python39\\lib\\site-packages (from torch>=1.11.0->sentence_transformers) (3.1.3)\n",
      "Requirement already satisfied: typing-extensions>=4.8.0 in c:\\users\\admin\\appdata\\roaming\\python\\python39\\site-packages (from torch>=1.11.0->sentence_transformers) (4.9.0)\n",
      "Requirement already satisfied: sympy in c:\\users\\admin\\appdata\\local\\programs\\python\\python39\\lib\\site-packages (from torch>=1.11.0->sentence_transformers) (1.12)\n",
      "Requirement already satisfied: filelock in c:\\users\\admin\\appdata\\local\\programs\\python\\python39\\lib\\site-packages (from torch>=1.11.0->sentence_transformers) (3.13.1)\n",
      "Requirement already satisfied: fsspec in c:\\users\\admin\\appdata\\local\\programs\\python\\python39\\lib\\site-packages (from torch>=1.11.0->sentence_transformers) (2024.2.0)\n",
      "Requirement already satisfied: pyyaml>=5.1 in c:\\users\\admin\\appdata\\local\\programs\\python\\python39\\lib\\site-packages (from transformers<5.0.0,>=4.32.0->sentence_transformers) (6.0.1)\n",
      "Requirement already satisfied: requests in c:\\users\\admin\\appdata\\local\\programs\\python\\python39\\lib\\site-packages (from transformers<5.0.0,>=4.32.0->sentence_transformers) (2.31.0)\n",
      "Requirement already satisfied: packaging>=20.0 in c:\\users\\admin\\appdata\\roaming\\python\\python39\\site-packages (from transformers<5.0.0,>=4.32.0->sentence_transformers) (23.2)\n",
      "Requirement already satisfied: regex!=2019.12.17 in c:\\users\\admin\\appdata\\local\\programs\\python\\python39\\lib\\site-packages (from transformers<5.0.0,>=4.32.0->sentence_transformers) (2023.12.25)\n",
      "Requirement already satisfied: safetensors>=0.4.1 in c:\\users\\admin\\appdata\\local\\programs\\python\\python39\\lib\\site-packages (from transformers<5.0.0,>=4.32.0->sentence_transformers) (0.4.2)\n",
      "Requirement already satisfied: tokenizers<0.19,>=0.14 in c:\\users\\admin\\appdata\\local\\programs\\python\\python39\\lib\\site-packages (from transformers<5.0.0,>=4.32.0->sentence_transformers) (0.15.2)\n",
      "Requirement already satisfied: joblib in c:\\users\\admin\\appdata\\local\\programs\\python\\python39\\lib\\site-packages (from nltk->sentence_transformers) (1.3.2)\n",
      "Requirement already satisfied: click in c:\\users\\admin\\appdata\\local\\programs\\python\\python39\\lib\\site-packages (from nltk->sentence_transformers) (8.1.7)\n",
      "Requirement already satisfied: threadpoolctl>=2.0.0 in c:\\users\\admin\\appdata\\local\\programs\\python\\python39\\lib\\site-packages (from scikit-learn->sentence_transformers) (3.3.0)\n",
      "Requirement already satisfied: MarkupSafe>=2.0 in c:\\users\\admin\\appdata\\local\\programs\\python\\python39\\lib\\site-packages (from jinja2->torch>=1.11.0->sentence_transformers) (2.1.5)\n",
      "Requirement already satisfied: mpmath>=0.19 in c:\\users\\admin\\appdata\\local\\programs\\python\\python39\\lib\\site-packages (from sympy->torch>=1.11.0->sentence_transformers) (1.3.0)\n",
      "Requirement already satisfied: certifi>=2017.4.17 in c:\\users\\admin\\appdata\\local\\programs\\python\\python39\\lib\\site-packages (from requests->transformers<5.0.0,>=4.32.0->sentence_transformers) (2024.2.2)\n",
      "Requirement already satisfied: urllib3<3,>=1.21.1 in c:\\users\\admin\\appdata\\local\\programs\\python\\python39\\lib\\site-packages (from requests->transformers<5.0.0,>=4.32.0->sentence_transformers) (2.2.1)\n",
      "Requirement already satisfied: idna<4,>=2.5 in c:\\users\\admin\\appdata\\local\\programs\\python\\python39\\lib\\site-packages (from requests->transformers<5.0.0,>=4.32.0->sentence_transformers) (3.6)\n",
      "Requirement already satisfied: charset-normalizer<4,>=2 in c:\\users\\admin\\appdata\\local\\programs\\python\\python39\\lib\\site-packages (from requests->transformers<5.0.0,>=4.32.0->sentence_transformers) (3.3.2)\n"
     ]
    },
    {
     "name": "stderr",
     "output_type": "stream",
     "text": [
      "WARNING: You are using pip version 20.2.3; however, version 24.0 is available.\n",
      "You should consider upgrading via the 'c:\\users\\admin\\appdata\\local\\programs\\python\\python39\\python.exe -m pip install --upgrade pip' command.\n"
     ]
    }
   ],
   "source": [
    "!pip install sentence_transformers"
   ]
  },
  {
   "cell_type": "code",
   "execution_count": null,
   "id": "e3c46070",
   "metadata": {},
   "outputs": [],
   "source": []
  },
  {
   "cell_type": "code",
   "execution_count": 38,
   "id": "39da8b83-be98-4a51-91cb-83fc25e6b28e",
   "metadata": {},
   "outputs": [
    {
     "data": {
      "text/plain": [
       "\"Action,Adventure,Fantasy,Science Fiction culture clash,future,space war,space colony,society,space travel,futuristic,romance,space,alien,tribe,alien planet,cgi,marine,soldier,battle,love affair,anti war,power relations,mind and soul,3d en In the 22nd century, a paraplegic Marine is dispatched to the moon Pandora on a unique mission, but becomes torn between following orders and protecting an alien civilization. Ingenious Film Partners,Twentieth Century Fox Film Corporation,Dune Entertainment,Lightstorm Entertainment United States of America,United Kingdom English,Español Enter the World of Pandora. Sam Worthington,Zoe Saldana,Sigourney Weaver,Stephen Lang,Michelle Rodriguez,Giovanni Ribisi,Joel David Moore,CCH Pounder,Wes Studi,Laz Alonso,Dileep Rao,Matt Gerald,Sean Anthony Moran,Jason Whyte,Scott Lawrence,Kelly Kilgour,James Patrick Pitt,Sean Patrick Murphy,Peter Dillon,Kevin Dorman,Kelson Henderson,David Van Horn,Jacob Tomuri,Michael Blain-Rozgay,Jon Curry,Luke Hawker,Woody Schultz,Peter Mensah,Sonia Yee,Jahnel Curfman,Ilram Choi,Kyla Warren,Lisa Roumain,Debra Wilson,Chris Mala,Taylor Kibby,Jodie Landau,Julie Lamm,Cullen B. Madden,Joseph Brady Madden,Frankie Torres,Austin Wilson,Sara Wilson,Tamica Washington-Miller,Lucy Briant,Nathan Meister,Gerry Blair,Matthew Chamberlain,Paul Yates,Wray Wilson,James Gaylyn,Melvin Leno Clark III,Carvon Futrell,Brandon Jelkes,Micah Moch,Hanniyah Muhammad,Christopher Nolen,Christa Oliver,April Marie Thomas,Bravita A. Threatt,Colin Bleasdale,Mike Bodnar,Matt Clayton,Nicole Dionne,Jamie Harrison,Allan Henry,Anthony Ingruber,Ashley Jeffery,Dean Knowsley,Joseph Mika-Hunt,Terry Notary,Kai Pantano,Logan Pithyou,Stuart Pollock,Raja,Gareth Ruck,Rhian Sheehan,T. J. Storm,Jodie Taylor,Alicia Vela-Bailey,Richard Whiteside,Nikie Zambo,Julene Renee Stephen E. Rivkin,Rick Carter,Christopher Boyes,Christopher Boyes,Mali Finn,James Horner,James Cameron,James Cameron,James Cameron,James Cameron,James Cameron,Andrew Menzies,Jill Brooks,Margery Simkin,Kevin Ishioka,Dick Bernstein,Shannon Mills,Dennie Thorpe,Jana Vance,Deborah Lynn Scott,Jon Landau,Sean Haworth,Kim Sinclair,Kim Sinclair,Richard F. Mays,Laeta Kalogridis,Mayes C. Rubeo,Mauro Fiore,Scott Herbertson,Woody Schultz,Linda DeVetta,Linda DeVetta,Richard Bluck,Simon Bright,Richard Martin,Steve R. Moore,John Refoua,Karl J. Martin,Chiling Lin,Ilram Choi,Steven Quale,Carla Meyer,Nick Bassett,Jill Cormack,Andy McLaren,Terry Notary,Garrett Warren,Jonathan Rothbart,Stefan Dechant,Todd Cherniawsky,Miranda Rivers,Robert Stromberg,John Harding,Roberto De Angelis,Mike Smithson,Alain Lalanne,Lucas Salton,Janace Tashjian,Stephen Rosenbaum,Frankie Karena,Lisa Lovaas,Jonathan Fawkner,Robert Bavin,Anthony Almaraz,Carolyn M. Fenton,Beth Koenigsberg,Sam Page,Tex Kadonaga,Kim Foscato,Tammy S. Lee,Denny Caira,James Waitkus,Addison Teague,C. Scott Baker,Luke Caska,David Chow,Jonathan Dyer,Joseph Hiura,Rebecca Jellie,Robert Andrew Johnson,Mike Stassi,John Villarino,Jeffrey Wisniewski,Cheryl Nardi,Marshall Winn,Gwendolyn Yates Whittle,William Stein,Lula Washington,Chris Del Conte,R. Christopher White,Dan Lemmon,Tim Nielsen,Michael Mulholland,Thomas Nittmann,Edson Williams,Christine Carr,John Bruno,David Emmerichs,Christopher Scarabosio,Jennifer Teves,Brigitte Yorke,Ken Fischer,Iain Hutton,Steve Ingram,Joyce Cox,Jenny Foster,Christopher Marino,Jim Milton,Cyndi Ochs,Lucas Putnam,Anthony 'Max' Ivins,John Knoll,Eric Saindon,Wayne Stables,David Stinnett,Guy Williams,Stuart Thorp,Giles Coburn,Mark Fellman,Scott Sprague,Jeremy Hollobon,Orlando Meunier,Taisuke Tanimura,Lilia Mishel Acevedo,Alejandro M. Hernandez,Marvin Hall,Judy Alley,Mike Perry,Andrew Morley,Seth Engstrom,Eric Oliver,Matsune Suzuki,Paul Tobin,Roxane Griffin,Arun Ram-Mohan,Georgia Lockhart-Adams,Thrain Shadbolt,Brad Alexander,Shadi Almassizadeh,Simon Clutterbuck,Graeme Demmocks,Adrian Fernandes,Mitch Gates,Jerry Kung,Andy Lomas,Sebastian Marino,Matthias Menz,Sergei Nevshupov,Philippe Rebours,Michael Takarangi,David Weitzberg,Ben White,Min Windle\""
      ]
     },
     "execution_count": 38,
     "metadata": {},
     "output_type": "execute_result"
    }
   ],
   "source": [
    "# # # Making Simillar Product Serach based on Input\n",
    "\n",
    "# from sentence_transformers import util\n",
    "# # Get similar items based on combined name and category\n",
    "# product_info_to_search = infer_df['combined_text_str'].values[0]\n",
    "\n",
    "# product_info_to_search\n",
    "\n",
    "# # similar_items = get_similar_items(product_info_to_search, unpickled_df, multi_qa_model)\n",
    "\n",
    "\n",
    "# # # Print the formatted output\n",
    "# # # print(f\"Product: {product_info_to_search}\")\n",
    "# # print(\"\\nSimilar Movies:\")\n",
    "# # for idx, row in similar_items.iterrows():\n",
    "# #     print(f\"Product : {row['title']}\")"
   ]
  },
  {
   "cell_type": "code",
   "execution_count": 40,
   "id": "78ae9e43-f101-4b46-b31a-cfade6b95c64",
   "metadata": {},
   "outputs": [],
   "source": [
    "# # # Making Simillar Product Serach based on Input\n",
    "\n",
    "# from sentence_transformers import util\n",
    "# # Get similar items based on combined name and category\n",
    "# product_info_to_search = infer_df['combined_text_str'].values[0]\n",
    "\n",
    "# similar_items = get_similar_items(product_info_to_search, unpickled_df)\n",
    "\n",
    "\n",
    "# # Print the formatted output\n",
    "# # print(f\"Product: {product_info_to_search}\")\n",
    "# print(\"\\nSimilar Movies:\")\n",
    "# for idx, row in similar_items.iterrows():\n",
    "#     print(f\"Title : {row['title']}\")"
   ]
  },
  {
   "cell_type": "code",
   "execution_count": 90,
   "id": "0c83cade-9d24-4368-9b46-a30a38c4e208",
   "metadata": {},
   "outputs": [
    {
     "name": "stdout",
     "output_type": "stream",
     "text": [
      "\n",
      "Similar Movies:\n",
      "Product : Avatar\n",
      "Product : Escape from Planet Earth\n",
      "Product : Mission to Mars\n",
      "Product : Battleship\n",
      "Product : Galaxy Quest\n",
      "Product : Planet 51\n"
     ]
    }
   ],
   "source": [
    "# # Making Simillar Product Serach based on Input\n",
    "\n",
    "from sentence_transformers import util\n",
    "# Get similar items based on combined name and category\n",
    "product_info_to_search = infer_df['combined_text_str'].values[0]\n",
    "\n",
    "similar_items = get_similar_items(product_info_to_search, unpickled_df,model)\n",
    "\n",
    "\n",
    "# Print the formatted output\n",
    "# print(f\"Product: {product_info_to_search}\")\n",
    "print(\"\\nSimilar Movies:\")\n",
    "for idx, row in similar_items.iterrows():\n",
    "    print(f\"Product : {row['title']}\")"
   ]
  },
  {
   "cell_type": "code",
   "execution_count": null,
   "id": "dac24382-53ee-4eb4-b5e9-cb1fa6f33a6b",
   "metadata": {},
   "outputs": [],
   "source": []
  }
 ],
 "metadata": {
  "kernelspec": {
   "display_name": "Python 3 (ipykernel)",
   "language": "python",
   "name": "python3"
  },
  "language_info": {
   "codemirror_mode": {
    "name": "ipython",
    "version": 3
   },
   "file_extension": ".py",
   "mimetype": "text/x-python",
   "name": "python",
   "nbconvert_exporter": "python",
   "pygments_lexer": "ipython3",
   "version": "3.9.0"
  }
 },
 "nbformat": 4,
 "nbformat_minor": 5
}
